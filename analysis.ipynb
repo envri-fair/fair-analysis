{
 "cells": [
  {
   "cell_type": "code",
   "execution_count": 8,
   "id": "85a538f7-220f-4095-b417-11d6270db3ee",
   "metadata": {},
   "outputs": [
    {
     "data": {
      "text/html": [
       "<div>\n",
       "<style scoped>\n",
       "    .dataframe tbody tr th:only-of-type {\n",
       "        vertical-align: middle;\n",
       "    }\n",
       "\n",
       "    .dataframe tbody tr th {\n",
       "        vertical-align: top;\n",
       "    }\n",
       "\n",
       "    .dataframe thead th {\n",
       "        text-align: right;\n",
       "    }\n",
       "</style>\n",
       "<table border=\"1\" class=\"dataframe\">\n",
       "  <thead>\n",
       "    <tr style=\"text-align: right;\">\n",
       "      <th></th>\n",
       "      <th>p</th>\n",
       "      <th>y</th>\n",
       "      <th>t</th>\n",
       "      <th>fip_title</th>\n",
       "      <th>c</th>\n",
       "      <th>q</th>\n",
       "      <th>res</th>\n",
       "    </tr>\n",
       "  </thead>\n",
       "  <tbody>\n",
       "    <tr>\n",
       "      <th>0</th>\n",
       "      <td>F1</td>\n",
       "      <td>2021</td>\n",
       "      <td>MD</td>\n",
       "      <td>ACTRIS_ARES_FIP_2021</td>\n",
       "      <td>ACTRIS-ARES</td>\n",
       "      <td>F1-MD</td>\n",
       "      <td>Handle_System</td>\n",
       "    </tr>\n",
       "    <tr>\n",
       "      <th>1</th>\n",
       "      <td>F1</td>\n",
       "      <td>2021</td>\n",
       "      <td>MD</td>\n",
       "      <td>ACTRIS_ARES_FIP_2021</td>\n",
       "      <td>ACTRIS-ARES</td>\n",
       "      <td>F1-MD</td>\n",
       "      <td>DOI</td>\n",
       "    </tr>\n",
       "    <tr>\n",
       "      <th>2</th>\n",
       "      <td>F1</td>\n",
       "      <td>2021</td>\n",
       "      <td>MD</td>\n",
       "      <td>ACTRIS_ARES_FIP_2021</td>\n",
       "      <td>ACTRIS-ARES</td>\n",
       "      <td>F1-MD</td>\n",
       "      <td>ORCID</td>\n",
       "    </tr>\n",
       "    <tr>\n",
       "      <th>3</th>\n",
       "      <td>F1</td>\n",
       "      <td>2020</td>\n",
       "      <td>MD</td>\n",
       "      <td>ACTRIS-ASC_FIP_2020</td>\n",
       "      <td>ACTRIS-ASC</td>\n",
       "      <td>F1-MD</td>\n",
       "      <td>UUID</td>\n",
       "    </tr>\n",
       "    <tr>\n",
       "      <th>4</th>\n",
       "      <td>F1</td>\n",
       "      <td>2020</td>\n",
       "      <td>MD</td>\n",
       "      <td>ACTRIS-ASC_FIP_2020</td>\n",
       "      <td>ACTRIS-ASC</td>\n",
       "      <td>F1-MD</td>\n",
       "      <td>DOI</td>\n",
       "    </tr>\n",
       "  </tbody>\n",
       "</table>\n",
       "</div>"
      ],
      "text/plain": [
       "    p     y   t             fip_title            c      q            res\n",
       "0  F1  2021  MD  ACTRIS_ARES_FIP_2021  ACTRIS-ARES  F1-MD  Handle_System\n",
       "1  F1  2021  MD  ACTRIS_ARES_FIP_2021  ACTRIS-ARES  F1-MD            DOI\n",
       "2  F1  2021  MD  ACTRIS_ARES_FIP_2021  ACTRIS-ARES  F1-MD          ORCID\n",
       "3  F1  2020  MD   ACTRIS-ASC_FIP_2020   ACTRIS-ASC  F1-MD           UUID\n",
       "4  F1  2020  MD   ACTRIS-ASC_FIP_2020   ACTRIS-ASC  F1-MD            DOI"
      ]
     },
     "execution_count": 8,
     "metadata": {},
     "output_type": "execute_result"
    }
   ],
   "source": [
    "import pandas as pd\n",
    "from pandas import Series\n",
    "import matplotlib.pyplot as plt\n",
    "\n",
    "df1 = pd.read_csv('data.csv')\n",
    "\n",
    "df1.head(5)\n",
    "\n",
    "#len(df1)"
   ]
  },
  {
   "cell_type": "code",
   "execution_count": 10,
   "id": "372e6919-0b8f-49f6-b393-8b11f81385d4",
   "metadata": {},
   "outputs": [
    {
     "name": "stderr",
     "output_type": "stream",
     "text": [
      "/tmp/ipykernel_3603/3644622852.py:1: FutureWarning: Index.__or__ operating as a set operation is deprecated, in the future this will be a logical operation matching Series.__or__.  Use index.union(other) instead.\n",
      "  df1.drop((df1[df1.c == 'ACTRIS-ARES'].index) |\n"
     ]
    },
    {
     "data": {
      "text/plain": [
       "1736"
      ]
     },
     "execution_count": 10,
     "metadata": {},
     "output_type": "execute_result"
    }
   ],
   "source": [
    "df1.drop((df1[df1.c == 'ACTRIS-ARES'].index) | \n",
    "         (df1[df1.c == 'EPOS-ERIC'].index) | \n",
    "         (df1[df1.c == 'EPOS-ERIC'].index) |\n",
    "         (df1[df1.c == 'DiSSCo'].index), inplace=True)\n",
    "\n",
    "len(df1)"
   ]
  },
  {
   "cell_type": "code",
   "execution_count": 13,
   "id": "4643a693-d29d-4351-ae9f-8cf4bdea508c",
   "metadata": {},
   "outputs": [
    {
     "data": {
      "text/plain": [
       "DOI              21\n",
       "Handle_System     6\n",
       "UUID              5\n",
       "ePIC              3\n",
       "URI               3\n",
       "SDN_CDI_PID       1\n",
       "B2HANDLE          1\n",
       "DEIMS-ID          1\n",
       "Name: res, dtype: int64"
      ]
     },
     "execution_count": 13,
     "metadata": {},
     "output_type": "execute_result"
    }
   ],
   "source": [
    "df1[(df1['p'] == 'F1') & (df1['y'] == '2019')]['res'].value_counts()"
   ]
  },
  {
   "cell_type": "code",
   "execution_count": 14,
   "id": "87c3b078-1eaa-4444-a1f4-c58be31c01e5",
   "metadata": {},
   "outputs": [
    {
     "data": {
      "text/plain": [
       "DOI              27\n",
       "Handle_System     9\n",
       "UUID              6\n",
       "ePIC              6\n",
       "URI               3\n",
       "ORCID             2\n",
       "SDN_CDI_PID       1\n",
       "PURL              1\n",
       "B2HANDLE          1\n",
       "DEIMS-ID          1\n",
       "Name: res, dtype: int64"
      ]
     },
     "execution_count": 14,
     "metadata": {},
     "output_type": "execute_result"
    }
   ],
   "source": [
    "df1[(df1['p'] == 'F1') & (df1['y'] == '2021')]['res'].value_counts()"
   ]
  },
  {
   "cell_type": "code",
   "execution_count": 15,
   "id": "536867f4-1f48-4314-8070-557889cf225a",
   "metadata": {},
   "outputs": [
    {
     "name": "stderr",
     "output_type": "stream",
     "text": [
      "/tmp/ipykernel_3603/2280282678.py:2: FutureWarning: Index.__or__ operating as a set operation is deprecated, in the future this will be a logical operation matching Series.__or__.  Use index.union(other) instead.\n",
      "  df1.drop((df1[df1.c == 'ACTRIS-ARES'].index) |\n"
     ]
    },
    {
     "data": {
      "text/plain": [
       "1736"
      ]
     },
     "execution_count": 15,
     "metadata": {},
     "output_type": "execute_result"
    }
   ],
   "source": [
    "# Exclude those that were not evaluated in 2019: ACTRIS-ARES, EPOS-ERIC, EPOS-ERIC, DiSSCo\n",
    "df1.drop((df1[df1.c == 'ACTRIS-ARES'].index) | \n",
    "         (df1[df1.c == 'EPOS-ERIC'].index) | \n",
    "         (df1[df1.c == 'EPOS-ERIC'].index) |\n",
    "         (df1[df1.c == 'DiSSCo'].index), inplace=True)\n",
    "\n",
    "len(df1)"
   ]
  },
  {
   "cell_type": "code",
   "execution_count": 16,
   "id": "b4552a8d-0cea-4321-a198-2d1096827713",
   "metadata": {},
   "outputs": [],
   "source": [
    "d = []\n",
    "\n",
    "principles = ['F1', 'F2', 'F3', 'F4', 'A1.1', 'A1.2', 'A2', 'I1', 'I2', 'I3', 'R1.1', 'R1.2']\n",
    "years = ['2019', '2020', '2021']\n",
    "\n",
    "for year in years:\n",
    "    d1 = {}\n",
    "    d.append(d1)\n",
    "    resources = Series(dtype='float64')\n",
    "    for principle in principles:\n",
    "        selection = df1[(df1['p'] == principle) & (df1['y'] == year)]['res']\n",
    "        #print('{} {} {}'.format(year, principle, len(selection)))\n",
    "        resources = pd.concat([resources, selection])\n",
    "        \n",
    "        # Option 1\n",
    "        #unique = len(set(selection)) # Number of distinct resources in current use in communities for the given year and principle\n",
    "        #total = len(selection) # Number of resources in current use communities for the given year and principle\n",
    "        #fraction = unique/total if total > 0 else 0\n",
    "        # 5/5 means that all communities use different resources\n",
    "        # 1/10 means that all communities use the same resource\n",
    "        # The lower the fraction the better\n",
    "        #print('{} {} {} {} {}'.format(year, principle, unique, total, fraction))\n",
    "        \n",
    "        # Option 2\n",
    "        selection = selection.value_counts()\n",
    "        shared = len(selection[selection > 1])\n",
    "        total = len(selection)\n",
    "        fraction = shared/total if total > 0 else 0\n",
    "        \n",
    "        d1[principle] = fraction\n",
    "        \n",
    "    # Option 1\n",
    "    unique = len(set(resources))\n",
    "    total = len(resources)\n",
    "    fraction = unique/total if total > 0 else 0\n",
    "    \n",
    "    # Option 2\n",
    "    selection = resources.value_counts()\n",
    "    shared = len(selection[selection > 1])\n",
    "    total = len(selection)\n",
    "    fraction = shared/total if total > 0 else 0\n",
    "    \n",
    "    d1['R1.3'] = fraction\n",
    "        \n",
    "\n",
    "df2 = pd.DataFrame(d)\n",
    "df2.index = years"
   ]
  },
  {
   "cell_type": "code",
   "execution_count": 17,
   "id": "981805a5-efbb-45bc-877d-869c23c4cc22",
   "metadata": {},
   "outputs": [
    {
     "data": {
      "text/html": [
       "<div>\n",
       "<style scoped>\n",
       "    .dataframe tbody tr th:only-of-type {\n",
       "        vertical-align: middle;\n",
       "    }\n",
       "\n",
       "    .dataframe tbody tr th {\n",
       "        vertical-align: top;\n",
       "    }\n",
       "\n",
       "    .dataframe thead th {\n",
       "        text-align: right;\n",
       "    }\n",
       "</style>\n",
       "<table border=\"1\" class=\"dataframe\">\n",
       "  <thead>\n",
       "    <tr style=\"text-align: right;\">\n",
       "      <th></th>\n",
       "      <th>2019</th>\n",
       "      <th>2020</th>\n",
       "      <th>2021</th>\n",
       "    </tr>\n",
       "  </thead>\n",
       "  <tbody>\n",
       "    <tr>\n",
       "      <th>F1</th>\n",
       "      <td>0.625000</td>\n",
       "      <td>0.555556</td>\n",
       "      <td>0.600000</td>\n",
       "    </tr>\n",
       "    <tr>\n",
       "      <th>F2</th>\n",
       "      <td>0.461538</td>\n",
       "      <td>0.466667</td>\n",
       "      <td>0.444444</td>\n",
       "    </tr>\n",
       "    <tr>\n",
       "      <th>F3</th>\n",
       "      <td>0.400000</td>\n",
       "      <td>0.400000</td>\n",
       "      <td>0.400000</td>\n",
       "    </tr>\n",
       "    <tr>\n",
       "      <th>F4</th>\n",
       "      <td>0.625000</td>\n",
       "      <td>0.592593</td>\n",
       "      <td>0.558824</td>\n",
       "    </tr>\n",
       "    <tr>\n",
       "      <th>A1.1</th>\n",
       "      <td>0.470588</td>\n",
       "      <td>0.666667</td>\n",
       "      <td>0.722222</td>\n",
       "    </tr>\n",
       "    <tr>\n",
       "      <th>A1.2</th>\n",
       "      <td>0.545455</td>\n",
       "      <td>0.615385</td>\n",
       "      <td>0.769231</td>\n",
       "    </tr>\n",
       "    <tr>\n",
       "      <th>A2</th>\n",
       "      <td>0.000000</td>\n",
       "      <td>0.000000</td>\n",
       "      <td>0.125000</td>\n",
       "    </tr>\n",
       "    <tr>\n",
       "      <th>I1</th>\n",
       "      <td>0.666667</td>\n",
       "      <td>0.777778</td>\n",
       "      <td>0.888889</td>\n",
       "    </tr>\n",
       "    <tr>\n",
       "      <th>I2</th>\n",
       "      <td>0.458333</td>\n",
       "      <td>0.689655</td>\n",
       "      <td>0.678571</td>\n",
       "    </tr>\n",
       "    <tr>\n",
       "      <th>I3</th>\n",
       "      <td>0.370370</td>\n",
       "      <td>0.310345</td>\n",
       "      <td>0.428571</td>\n",
       "    </tr>\n",
       "    <tr>\n",
       "      <th>R1.1</th>\n",
       "      <td>0.454545</td>\n",
       "      <td>0.416667</td>\n",
       "      <td>0.300000</td>\n",
       "    </tr>\n",
       "    <tr>\n",
       "      <th>R1.2</th>\n",
       "      <td>0.500000</td>\n",
       "      <td>0.666667</td>\n",
       "      <td>0.625000</td>\n",
       "    </tr>\n",
       "    <tr>\n",
       "      <th>R1.3</th>\n",
       "      <td>0.522388</td>\n",
       "      <td>0.605442</td>\n",
       "      <td>0.597484</td>\n",
       "    </tr>\n",
       "  </tbody>\n",
       "</table>\n",
       "</div>"
      ],
      "text/plain": [
       "          2019      2020      2021\n",
       "F1    0.625000  0.555556  0.600000\n",
       "F2    0.461538  0.466667  0.444444\n",
       "F3    0.400000  0.400000  0.400000\n",
       "F4    0.625000  0.592593  0.558824\n",
       "A1.1  0.470588  0.666667  0.722222\n",
       "A1.2  0.545455  0.615385  0.769231\n",
       "A2    0.000000  0.000000  0.125000\n",
       "I1    0.666667  0.777778  0.888889\n",
       "I2    0.458333  0.689655  0.678571\n",
       "I3    0.370370  0.310345  0.428571\n",
       "R1.1  0.454545  0.416667  0.300000\n",
       "R1.2  0.500000  0.666667  0.625000\n",
       "R1.3  0.522388  0.605442  0.597484"
      ]
     },
     "execution_count": 17,
     "metadata": {},
     "output_type": "execute_result"
    }
   ],
   "source": [
    "df3 = df2.T\n",
    "#df3.head(3)\n",
    "df3"
   ]
  },
  {
   "cell_type": "code",
   "execution_count": 18,
   "id": "9994eeaf-d288-4f04-8c9d-3f3f4d031386",
   "metadata": {},
   "outputs": [
    {
     "data": {
      "text/html": [
       "<div>\n",
       "<style scoped>\n",
       "    .dataframe tbody tr th:only-of-type {\n",
       "        vertical-align: middle;\n",
       "    }\n",
       "\n",
       "    .dataframe tbody tr th {\n",
       "        vertical-align: top;\n",
       "    }\n",
       "\n",
       "    .dataframe thead th {\n",
       "        text-align: right;\n",
       "    }\n",
       "</style>\n",
       "<table border=\"1\" class=\"dataframe\">\n",
       "  <thead>\n",
       "    <tr style=\"text-align: right;\">\n",
       "      <th></th>\n",
       "      <th>2019</th>\n",
       "      <th>2020</th>\n",
       "      <th>2021</th>\n",
       "      <th>Difference</th>\n",
       "    </tr>\n",
       "  </thead>\n",
       "  <tbody>\n",
       "    <tr>\n",
       "      <th>R1.1</th>\n",
       "      <td>0.454545</td>\n",
       "      <td>0.416667</td>\n",
       "      <td>0.300000</td>\n",
       "      <td>-0.154545</td>\n",
       "    </tr>\n",
       "    <tr>\n",
       "      <th>F4</th>\n",
       "      <td>0.625000</td>\n",
       "      <td>0.592593</td>\n",
       "      <td>0.558824</td>\n",
       "      <td>-0.066176</td>\n",
       "    </tr>\n",
       "    <tr>\n",
       "      <th>F1</th>\n",
       "      <td>0.625000</td>\n",
       "      <td>0.555556</td>\n",
       "      <td>0.600000</td>\n",
       "      <td>-0.025000</td>\n",
       "    </tr>\n",
       "    <tr>\n",
       "      <th>F2</th>\n",
       "      <td>0.461538</td>\n",
       "      <td>0.466667</td>\n",
       "      <td>0.444444</td>\n",
       "      <td>-0.017094</td>\n",
       "    </tr>\n",
       "    <tr>\n",
       "      <th>F3</th>\n",
       "      <td>0.400000</td>\n",
       "      <td>0.400000</td>\n",
       "      <td>0.400000</td>\n",
       "      <td>0.000000</td>\n",
       "    </tr>\n",
       "    <tr>\n",
       "      <th>I3</th>\n",
       "      <td>0.370370</td>\n",
       "      <td>0.310345</td>\n",
       "      <td>0.428571</td>\n",
       "      <td>0.058201</td>\n",
       "    </tr>\n",
       "    <tr>\n",
       "      <th>R1.3</th>\n",
       "      <td>0.522388</td>\n",
       "      <td>0.605442</td>\n",
       "      <td>0.597484</td>\n",
       "      <td>0.075096</td>\n",
       "    </tr>\n",
       "    <tr>\n",
       "      <th>A2</th>\n",
       "      <td>0.000000</td>\n",
       "      <td>0.000000</td>\n",
       "      <td>0.125000</td>\n",
       "      <td>0.125000</td>\n",
       "    </tr>\n",
       "    <tr>\n",
       "      <th>R1.2</th>\n",
       "      <td>0.500000</td>\n",
       "      <td>0.666667</td>\n",
       "      <td>0.625000</td>\n",
       "      <td>0.125000</td>\n",
       "    </tr>\n",
       "    <tr>\n",
       "      <th>I2</th>\n",
       "      <td>0.458333</td>\n",
       "      <td>0.689655</td>\n",
       "      <td>0.678571</td>\n",
       "      <td>0.220238</td>\n",
       "    </tr>\n",
       "    <tr>\n",
       "      <th>I1</th>\n",
       "      <td>0.666667</td>\n",
       "      <td>0.777778</td>\n",
       "      <td>0.888889</td>\n",
       "      <td>0.222222</td>\n",
       "    </tr>\n",
       "    <tr>\n",
       "      <th>A1.2</th>\n",
       "      <td>0.545455</td>\n",
       "      <td>0.615385</td>\n",
       "      <td>0.769231</td>\n",
       "      <td>0.223776</td>\n",
       "    </tr>\n",
       "    <tr>\n",
       "      <th>A1.1</th>\n",
       "      <td>0.470588</td>\n",
       "      <td>0.666667</td>\n",
       "      <td>0.722222</td>\n",
       "      <td>0.251634</td>\n",
       "    </tr>\n",
       "  </tbody>\n",
       "</table>\n",
       "</div>"
      ],
      "text/plain": [
       "          2019      2020      2021  Difference\n",
       "R1.1  0.454545  0.416667  0.300000   -0.154545\n",
       "F4    0.625000  0.592593  0.558824   -0.066176\n",
       "F1    0.625000  0.555556  0.600000   -0.025000\n",
       "F2    0.461538  0.466667  0.444444   -0.017094\n",
       "F3    0.400000  0.400000  0.400000    0.000000\n",
       "I3    0.370370  0.310345  0.428571    0.058201\n",
       "R1.3  0.522388  0.605442  0.597484    0.075096\n",
       "A2    0.000000  0.000000  0.125000    0.125000\n",
       "R1.2  0.500000  0.666667  0.625000    0.125000\n",
       "I2    0.458333  0.689655  0.678571    0.220238\n",
       "I1    0.666667  0.777778  0.888889    0.222222\n",
       "A1.2  0.545455  0.615385  0.769231    0.223776\n",
       "A1.1  0.470588  0.666667  0.722222    0.251634"
      ]
     },
     "execution_count": 18,
     "metadata": {},
     "output_type": "execute_result"
    }
   ],
   "source": [
    "diff = []\n",
    "\n",
    "# A negative difference means that there has been convergence along the principle\n",
    "for index, row in df3.iterrows():\n",
    "    diff.append(row['2021']-row['2019'])\n",
    "\n",
    "df3['Difference'] = diff\n",
    "\n",
    "df3.sort_values(by='Difference', ascending=True)"
   ]
  },
  {
   "cell_type": "code",
   "execution_count": 19,
   "id": "705d7bda-83b7-4995-b071-483f2aa46e8e",
   "metadata": {},
   "outputs": [
    {
     "data": {
      "text/plain": [
       "DOI              21\n",
       "Handle_System     6\n",
       "UUID              5\n",
       "ePIC              3\n",
       "URI               3\n",
       "SDN_CDI_PID       1\n",
       "B2HANDLE          1\n",
       "DEIMS-ID          1\n",
       "Name: res, dtype: int64"
      ]
     },
     "execution_count": 19,
     "metadata": {},
     "output_type": "execute_result"
    }
   ],
   "source": [
    "df1[(df1['p'] == 'F1') & (df1['y'] == '2019')]['res'].value_counts()"
   ]
  },
  {
   "cell_type": "code",
   "execution_count": 20,
   "id": "e020cb5a-b30d-4abb-95eb-42208738eb4d",
   "metadata": {},
   "outputs": [
    {
     "data": {
      "text/plain": [
       "DOI              27\n",
       "Handle_System     9\n",
       "UUID              6\n",
       "ePIC              6\n",
       "URI               3\n",
       "ORCID             2\n",
       "SDN_CDI_PID       1\n",
       "PURL              1\n",
       "B2HANDLE          1\n",
       "DEIMS-ID          1\n",
       "Name: res, dtype: int64"
      ]
     },
     "execution_count": 20,
     "metadata": {},
     "output_type": "execute_result"
    }
   ],
   "source": [
    "df1[(df1['p'] == 'F1') & (df1['y'] == '2021')]['res'].value_counts()"
   ]
  },
  {
   "cell_type": "code",
   "execution_count": 25,
   "id": "385d7147-a280-4d4a-8641-fd619f9f9821",
   "metadata": {},
   "outputs": [
    {
     "data": {
      "text/html": [
       "<div>\n",
       "<style scoped>\n",
       "    .dataframe tbody tr th:only-of-type {\n",
       "        vertical-align: middle;\n",
       "    }\n",
       "\n",
       "    .dataframe tbody tr th {\n",
       "        vertical-align: top;\n",
       "    }\n",
       "\n",
       "    .dataframe thead th {\n",
       "        text-align: right;\n",
       "    }\n",
       "</style>\n",
       "<table border=\"1\" class=\"dataframe\">\n",
       "  <thead>\n",
       "    <tr style=\"text-align: right;\">\n",
       "      <th></th>\n",
       "      <th>2019</th>\n",
       "      <th>2021</th>\n",
       "    </tr>\n",
       "  </thead>\n",
       "  <tbody>\n",
       "    <tr>\n",
       "      <th>NetCDF</th>\n",
       "      <td>10</td>\n",
       "      <td>14</td>\n",
       "    </tr>\n",
       "    <tr>\n",
       "      <th>RDFS</th>\n",
       "      <td>10</td>\n",
       "      <td>12</td>\n",
       "    </tr>\n",
       "    <tr>\n",
       "      <th>JSON-LD</th>\n",
       "      <td>1</td>\n",
       "      <td>2</td>\n",
       "    </tr>\n",
       "    <tr>\n",
       "      <th>ODV_ASCII</th>\n",
       "      <td>1</td>\n",
       "      <td>2</td>\n",
       "    </tr>\n",
       "  </tbody>\n",
       "</table>\n",
       "</div>"
      ],
      "text/plain": [
       "           2019  2021\n",
       "NetCDF       10    14\n",
       "RDFS         10    12\n",
       "JSON-LD       1     2\n",
       "ODV_ASCII     1     2"
      ]
     },
     "execution_count": 25,
     "metadata": {},
     "output_type": "execute_result"
    }
   ],
   "source": [
    "# Good examples: F4, I1\n",
    "principle = 'I1'\n",
    "\n",
    "y1 = df1[(df1['p'] == principle) & (df1['y'] == '2019')]['res'].value_counts()\n",
    "y2 = df1[(df1['p'] == principle) & (df1['y'] == '2021')]['res'].value_counts()\n",
    "\n",
    "df4 = pd.DataFrame({'2019': y1, '2021': y2}, dtype='int64')\n",
    "\n",
    "df4 = df4.dropna()\n",
    "\n",
    "# Drop those that have same counts in 2019 and 2021\n",
    "df4 = df4[df4['2019'] != df4['2021']]\n",
    "\n",
    "df4 = df4.sort_values(by='2021', ascending=False)\n",
    "\n",
    "df4.head(5)"
   ]
  },
  {
   "cell_type": "code",
   "execution_count": 26,
   "id": "c31b33c6-fef1-41d1-80aa-7b5856054718",
   "metadata": {},
   "outputs": [
    {
     "data": {
      "image/png": "[encoded data removed]",
      "text/plain": [
       "<Figure size 864x576 with 1 Axes>"
      ]
     },
     "metadata": {
      "needs_background": "light"
     },
     "output_type": "display_data"
    }
   ],
   "source": [
    "ax = df4.plot.bar(figsize=(12,8))\n",
    "plt.legend(fontsize=20)\n",
    "plt.xlabel('Resources', fontsize=20)\n",
    "plt.ylabel('Count', fontsize=20)\n",
    "plt.xticks(fontsize=16, rotation=45)\n",
    "plt.yticks(fontsize=16)\n",
    "plt.show()"
   ]
  },
  {
   "cell_type": "code",
   "execution_count": null,
   "id": "0e8272a1-1e99-456e-b01a-de5a316334f2",
   "metadata": {},
   "outputs": [],
   "source": []
  }
 ],
 "metadata": {
  "kernelspec": {
   "display_name": "Python 3 (ipykernel)",
   "language": "python",
   "name": "python3"
  },
  "language_info": {
   "codemirror_mode": {
    "name": "ipython",
    "version": 3
   },
   "file_extension": ".py",
   "mimetype": "text/x-python",
   "name": "python",
   "nbconvert_exporter": "python",
   "pygments_lexer": "ipython3",
   "version": "3.8.10"
  }
 },
 "nbformat": 4,
 "nbformat_minor": 5
}
