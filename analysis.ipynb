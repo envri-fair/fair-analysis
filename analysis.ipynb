{
 "cells": [
  {
   "cell_type": "code",
   "execution_count": null,
   "id": "85a538f7-220f-4095-b417-11d6270db3ee",
   "metadata": {},
   "outputs": [],
   "source": [
    "import pandas as pd\n",
    "from pandas import Series\n",
    "import matplotlib.pyplot as plt\n",
    "\n",
    "df1 = pd.read_csv('data.csv')\n",
    "\n",
    "df1.head(5)"
   ]
  },
  {
   "cell_type": "code",
   "execution_count": null,
   "id": "b4552a8d-0cea-4321-a198-2d1096827713",
   "metadata": {},
   "outputs": [],
   "source": [
    "d = []\n",
    "\n",
    "principles = ['F1', 'F2', 'F3', 'F4', 'A1.1', 'A1.2', 'A2', 'I1', 'I2', 'I3', 'R1.1', 'R1.2']\n",
    "years = [2019, 2020, 2021]\n",
    "\n",
    "for year in years:\n",
    "    d1 = {}\n",
    "    d.append(d1)\n",
    "    resources = Series(dtype='float64')\n",
    "    for principle in principles:\n",
    "        selection = df1[(df1['p'] == principle) & (df1['y'] == year)]['res']\n",
    "        resources = pd.concat([resources, selection])\n",
    "        unique = len(set(selection)) # Number of distinct resources in current use in communities for the given year and principle\n",
    "        total = len(selection) # Number of resources in current use communities for the given year and principle\n",
    "        fraction = unique/total if total > 0 else 0\n",
    "        # 5/5 means that all communities use different resources\n",
    "        # 1/10 means that all communities use the same resource\n",
    "        # The lower the fraction the better\n",
    "        #print('{} {} {} {} {}'.format(year, principle, unique, total, fraction))\n",
    "        d1[principle] = fraction\n",
    "    d1['R1.3'] = len(set(resources))/len(resources)\n",
    "        \n",
    "\n",
    "df2 = pd.DataFrame(d)\n",
    "df2.index = years"
   ]
  },
  {
   "cell_type": "code",
   "execution_count": null,
   "id": "981805a5-efbb-45bc-877d-869c23c4cc22",
   "metadata": {},
   "outputs": [],
   "source": [
    "df3 = df2.T\n",
    "df3.head(3)"
   ]
  },
  {
   "cell_type": "code",
   "execution_count": null,
   "id": "9994eeaf-d288-4f04-8c9d-3f3f4d031386",
   "metadata": {},
   "outputs": [],
   "source": [
    "diff = []\n",
    "\n",
    "# A negative difference means that there has been convergence along the principle\n",
    "for index, row in df3.iterrows():\n",
    "    diff.append(row[2021]-row[2019])\n",
    "\n",
    "df3['Difference'] = diff\n",
    "\n",
    "df3.sort_values(by='Difference', ascending=True)"
   ]
  },
  {
   "cell_type": "code",
   "execution_count": null,
   "id": "385d7147-a280-4d4a-8641-fd619f9f9821",
   "metadata": {},
   "outputs": [],
   "source": [
    "# Good examples: F4, I1\n",
    "principle = 'I1'\n",
    "\n",
    "y1 = df1[(df1['p'] == principle) & (df1['y'] == 2019)]['res'].value_counts()\n",
    "y2 = df1[(df1['p'] == principle) & (df1['y'] == 2021)]['res'].value_counts()\n",
    "\n",
    "df4 = pd.DataFrame({'2019': y1, '2021': y2}, dtype='int64')\n",
    "\n",
    "#df4 = df4.dropna()\n",
    "\n",
    "# Drop those that have same counts in 2019 and 2021\n",
    "df4 = df4[df4['2019'] != df4['2021']]\n",
    "\n",
    "df4 = df4.sort_values(by='2019', ascending=False)\n",
    "\n",
    "df4.head(5)"
   ]
  },
  {
   "cell_type": "code",
   "execution_count": null,
   "id": "c31b33c6-fef1-41d1-80aa-7b5856054718",
   "metadata": {},
   "outputs": [],
   "source": [
    "ax = df4.plot.bar(figsize=(12,8))\n",
    "plt.legend(fontsize=20)\n",
    "plt.xlabel('Resources', fontsize=20)\n",
    "plt.ylabel('Count', fontsize=20)\n",
    "plt.xticks(fontsize=16, rotation=45)\n",
    "plt.yticks(fontsize=16)\n",
    "plt.show()"
   ]
  }
 ],
 "metadata": {
  "kernelspec": {
   "display_name": "Python 3 (ipykernel)",
   "language": "python",
   "name": "python3"
  },
  "language_info": {
   "codemirror_mode": {
    "name": "ipython",
    "version": 3
   },
   "file_extension": ".py",
   "mimetype": "text/x-python",
   "name": "python",
   "nbconvert_exporter": "python",
   "pygments_lexer": "ipython3",
   "version": "3.8.10"
  }
 },
 "nbformat": 4,
 "nbformat_minor": 5
}
